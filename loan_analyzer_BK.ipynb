{
 "cells": [
  {
   "cell_type": "code",
   "execution_count": 20,
   "id": "3d37d905-2d31-483c-8ab4-6597724941b6",
   "metadata": {},
   "outputs": [
    {
     "name": "stdout",
     "output_type": "stream",
     "text": [
      "the total number of loans is 5\n"
     ]
    }
   ],
   "source": [
    "# How many loans are in the list?\n",
    "loan_costs = [500, 600, 200, 1000, 450]\n",
    "\n",
    "# @TODO: Use the `len` function to calculate the total number of loans in the list.\n",
    "number_of_loan_costs = len(loan_costs)\n",
    "\n",
    "# Print the number of loans from the list\n",
    "print(f\"the total number of loans is {number_of_loan_costs}\")"
   ]
  },
  {
   "cell_type": "code",
   "execution_count": 21,
   "id": "5b9335e4-f459-424d-ad9f-7ec1d5bfe8d9",
   "metadata": {},
   "outputs": [
    {
     "name": "stdout",
     "output_type": "stream",
     "text": [
      "the total amount loaned is $2750\n"
     ]
    }
   ],
   "source": [
    "# What is the total of all loans?\n",
    "# @TODO: Use the `sum` function to calculate the total of all loans in the list.\n",
    "# Print the total value of the loans\n",
    "\n",
    "total_loan_costs = sum(loan_costs)\n",
    "print(f\"the total amount loaned is ${total_loan_costs}\")"
   ]
  },
  {
   "cell_type": "code",
   "execution_count": 22,
   "id": "b77b4d1a-24f6-47ff-8eac-a567ef766016",
   "metadata": {},
   "outputs": [
    {
     "name": "stdout",
     "output_type": "stream",
     "text": [
      "the average loan amount is $550.0\n"
     ]
    }
   ],
   "source": [
    "# What is the average loan amount from the list?\n",
    "# @TODO: Using the sum of all loans and the total number of loans, calculate the average loan price.\n",
    "# Print the average loan amount\n",
    "\n",
    "average_loan_costs = (total_loan_costs / number_of_loan_costs)\n",
    "\n",
    "print(f\"the average loan amount is ${average_loan_costs}\")"
   ]
  },
  {
   "cell_type": "code",
   "execution_count": 5,
   "id": "5b495d68-364a-4d07-b834-d7a112199058",
   "metadata": {},
   "outputs": [],
   "source": [
    "# Given the following loan data, you will need to calculate the present value for the loan\n",
    "\n",
    "loan = {\n",
    "    \"loan_price\": 500,\n",
    "    \"remaining_months\": 9,\n",
    "    \"repayment_interval\": \"bullet\",\n",
    "    \"future_value\": 1000,\n",
    "}"
   ]
  },
  {
   "cell_type": "code",
   "execution_count": 10,
   "id": "6d8b4b3c-6bba-4da6-8cba-926d94bd9034",
   "metadata": {},
   "outputs": [
    {
     "name": "stdout",
     "output_type": "stream",
     "text": [
      "the future value of the loan is $1000 in 9 months\n",
      "\n"
     ]
    }
   ],
   "source": [
    "# @TODO: Use get() on the dictionary of additional information to extract the Future Value and Remaining Months on the loan.\n",
    "# Print each variable\n",
    "\n",
    "print(f\"the future value of the loan is ${loan.get('future_value')}\",f\"in {loan.get('remaining_months')} months\")\n",
    "print()"
   ]
  },
  {
   "cell_type": "code",
   "execution_count": 7,
   "id": "0c212e22-6612-418c-890c-dd0922cf7e0a",
   "metadata": {},
   "outputs": [
    {
     "name": "stdout",
     "output_type": "stream",
     "text": [
      "the present value of the loan is $861.77\n"
     ]
    }
   ],
   "source": [
    "# @TODO: Use the formula for Present Value to calculate a \"fair value\" of the loan.\n",
    "# Use a minimum required return of 20% as the discount rate.\n",
    "#   You'll want to use the **monthly** version of the present value formula.\n",
    "\n",
    "loan[\"discount_rate\"] = 0.2\n",
    "present_value = loan[\"future_value\"] / (1 + loan[\"discount_rate\"]/12) ** loan[\"remaining_months\"]\n",
    "print(f\"the present value of the loan is ${round(present_value,2)}\")"
   ]
  },
  {
   "cell_type": "code",
   "execution_count": 13,
   "id": "352d75fa-1e20-40d4-83b2-932052851186",
   "metadata": {},
   "outputs": [
    {
     "name": "stdout",
     "output_type": "stream",
     "text": [
      "the loan is worth at least the cost to buy it\n"
     ]
    }
   ],
   "source": [
    "# If Present Value represents what the loan is really worth, does it make sense to buy the loan at its cost?\n",
    "# @TODO: Write a conditional statement (an if-else statement) to decide if the present value represents the loan's fair value.\n",
    "#    If the present value of the loan is greater than or equal to the cost, then print a message that says the loan is worth at least the cost to buy it.\n",
    "#    Else, the present value of the loan is less than the loan cost, then print a message that says that the loan is too expensive and not worth the price.\n",
    "# YOUR CODE HERE!\n",
    "if present_value >= loan[\"loan_price\"]:\n",
    "    print(\"the loan is worth at least the cost to buy it\")\n",
    "else:\n",
    "    print(\"the present value of the loan is less than the loan cost\")\n",
    "    print(\"the loan is too expensive and not worth the price\")"
   ]
  },
  {
   "cell_type": "code",
   "execution_count": 20,
   "id": "725b7653-4cf6-4bce-b939-5d7f9e80ba8b",
   "metadata": {},
   "outputs": [],
   "source": [
    "# Given the following loan data, you will need to calculate the present value for the loan\n",
    "new_loan = {\n",
    "    \"loan_price\": 800,\n",
    "    \"remaining_months\": 12,\n",
    "    \"repayment_interval\": \"bullet\",\n",
    "    \"future_value\": 1000,\n",
    "}"
   ]
  },
  {
   "cell_type": "code",
   "execution_count": 21,
   "id": "5182b02c-ddf9-4f57-8049-5dcb7b29146d",
   "metadata": {},
   "outputs": [
    {
     "name": "stdout",
     "output_type": "stream",
     "text": [
      "the present value of the loan is $820.08\n"
     ]
    }
   ],
   "source": [
    "# @TODO: Define a new function that will be used to calculate present value.\n",
    "#    This function should include parameters for `future_value`, `remaining_months`, and the `annual_discount_rate`\n",
    "#    The function should return the `present_value` for the loan.\n",
    "\n",
    "new_loan[\"discount_rate\"] = 0.2\n",
    "new_present_value = new_loan[\"future_value\"] / (1 + new_loan[\"discount_rate\"]/12) ** new_loan[\"remaining_months\"]\n",
    "\n",
    "def calculate_pv():\n",
    "    new_present_value = new_loan[\"future_value\"] / (1 + new_loan[\"discount_rate\"]/12) ** new_loan[\"remaining_months\"]\n",
    "    print(f\"the present value of the loan is ${round(new_present_value,2)}\")\n",
    "calculate_pv()"
   ]
  },
  {
   "cell_type": "code",
   "execution_count": 22,
   "id": "8c13a553-5fab-4b99-8ce0-4d09ff2698fb",
   "metadata": {},
   "outputs": [
    {
     "name": "stdout",
     "output_type": "stream",
     "text": [
      "The present value of the loan is: $820.08\n"
     ]
    }
   ],
   "source": [
    "# @TODO: Use the function to calculate the present value of the new loan given below.\n",
    "#    Use an `annual_discount_rate` of 0.2 for this new loan calculation.\n",
    "\n",
    "print(f\"The present value of the loan is: ${round(new_present_value,2)}\")"
   ]
  },
  {
   "cell_type": "code",
   "execution_count": 4,
   "id": "ac532aa9-8677-4d50-8837-58a1177ed889",
   "metadata": {},
   "outputs": [],
   "source": [
    "loans = [\n",
    "    {\n",
    "        \"loan_price\": 700,\n",
    "        \"remaining_months\": 9,\n",
    "        \"repayment_interval\": \"monthly\",\n",
    "        \"future_value\": 1000,\n",
    "    },\n",
    "    {\n",
    "        \"loan_price\": 500,\n",
    "        \"remaining_months\": 13,\n",
    "        \"repayment_interval\": \"bullet\",\n",
    "        \"future_value\": 1000,\n",
    "    },\n",
    "    {\n",
    "        \"loan_price\": 200,\n",
    "        \"remaining_months\": 16,\n",
    "        \"repayment_interval\": \"bullet\",\n",
    "        \"future_value\": 1000,\n",
    "    },\n",
    "    {\n",
    "        \"loan_price\": 900,\n",
    "        \"remaining_months\": 16,\n",
    "        \"repayment_interval\": \"bullet\",\n",
    "        \"future_value\": 1000,\n",
    "    },\n",
    "]"
   ]
  },
  {
   "cell_type": "code",
   "execution_count": 18,
   "id": "63bf54dd-cf25-4c61-b949-94f781484682",
   "metadata": {},
   "outputs": [],
   "source": [
    "# @TODO: Create an empty list called `inexpensive_loans`\n",
    "inexpensive_loans = []\n",
    "\n",
    "# @TODO: Loop through all the loans and append any that cost $500 or less to the `inexpensive_loans` list\n",
    "\n",
    "minimum_loan_price = 500\n",
    "\n",
    "for item in loans:\n",
    "    if item[\"loan_price\"] <= minimum_loan_price:\n",
    "        inexpensive_loans.append(item)"
   ]
  },
  {
   "cell_type": "code",
   "execution_count": 19,
   "id": "f3ae60c6-4a76-4b77-a445-f295a537cb7a",
   "metadata": {},
   "outputs": [
    {
     "name": "stdout",
     "output_type": "stream",
     "text": [
      "[{'loan_price': 500, 'remaining_months': 13, 'repayment_interval': 'bullet', 'future_value': 1000}, {'loan_price': 200, 'remaining_months': 16, 'repayment_interval': 'bullet', 'future_value': 1000}]\n"
     ]
    }
   ],
   "source": [
    "# @TODO: Print the `inexpensive_loans` list\n",
    "print(inexpensive_loans)"
   ]
  }
 ],
 "metadata": {
  "kernelspec": {
   "display_name": "Python 3 (ipykernel)",
   "language": "python",
   "name": "python3"
  },
  "language_info": {
   "codemirror_mode": {
    "name": "ipython",
    "version": 3
   },
   "file_extension": ".py",
   "mimetype": "text/x-python",
   "name": "python",
   "nbconvert_exporter": "python",
   "pygments_lexer": "ipython3",
   "version": "3.7.11"
  }
 },
 "nbformat": 4,
 "nbformat_minor": 5
}
